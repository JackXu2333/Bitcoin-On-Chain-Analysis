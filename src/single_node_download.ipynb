{
 "cells": [
  {
   "cell_type": "code",
   "execution_count": 6,
   "id": "f02cfcb3",
   "metadata": {},
   "outputs": [
    {
     "name": "stdout",
     "output_type": "stream",
     "text": [
      "\u001b[31mERROR: Could not find a version that satisfies the requirement queue (from versions: none)\u001b[0m\r\n",
      "\u001b[31mERROR: No matching distribution found for queue\u001b[0m\r\n"
     ]
    }
   ],
   "source": []
  },
  {
   "cell_type": "code",
   "execution_count": 8,
   "id": "548b3c3a",
   "metadata": {},
   "outputs": [],
   "source": [
    "from file_parse import FileParser\n",
    "from transaction import *\n",
    "from utils import *\n",
    "from header import *\n",
    "from get_block_uilts import *\n",
    "import matplotlib.pyplot as plt\n",
    "import numpy as np\n",
    "import pandas as pd\n",
    "import os\n",
    "import threading\n",
    "from queue import Queue"
   ]
  },
  {
   "cell_type": "code",
   "execution_count": 2,
   "id": "9983480a",
   "metadata": {},
   "outputs": [
    {
     "name": "stdout",
     "output_type": "stream",
     "text": [
      "Start: 2020-01-01 End: 2020-01-15\n"
     ]
    }
   ],
   "source": [
    "start_date = time.strptime('2020-01-01', '%Y-%m-%d')\n",
    "end_date = time.strptime('2020-01-15', '%Y-%m-%d')\n",
    "\n",
    "block = blocks_hashlist_by_time(start_date, end_date)"
   ]
  },
  {
   "cell_type": "code",
   "execution_count": 52,
   "id": "3cb61e07",
   "metadata": {},
   "outputs": [],
   "source": [
    "#multiblocks_blk_by_hash(block[:2], True, \"../data/\")\n",
    "block_head = block[0][0]\n",
    "block_butt = block[len(block) - 1][0]\n",
    "block_len = len(block)"
   ]
  },
  {
   "cell_type": "code",
   "execution_count": 53,
   "id": "9e485fe1",
   "metadata": {},
   "outputs": [],
   "source": [
    "dir_name = \"../data/Blocks_%d_%d\" % (block_head, block_butt)\n",
    "if not os.path.exists(dir_name):\n",
    "    os.makedirs(dir_name)"
   ]
  },
  {
   "cell_type": "code",
   "execution_count": 54,
   "id": "365a90e4",
   "metadata": {},
   "outputs": [],
   "source": [
    "q = Queue()\n",
    "\n",
    "for i in range(5):\n",
    "    q.put(block[i])"
   ]
  },
  {
   "cell_type": "code",
   "execution_count": 55,
   "id": "7af15186",
   "metadata": {},
   "outputs": [],
   "source": [
    "#Multi-thread loader\n",
    "def reader(idx):\n",
    "    \n",
    "    while(not q.empty()):\n",
    "        try:\n",
    "            curr_qsize = q.qsize()\n",
    "            currBlock = q.get()\n",
    "        except:\n",
    "            print(\"You fucked up\")\n",
    "            return -1\n",
    "        \n",
    "        blocks_blk_by_hash(currBlock[1], currBlock[0], True, dir_name)\n",
    "        print(\"Progress: %d / %d Thread %d Block %d\" % (curr_qsize, block_len, idx, currBlock[0]))"
   ]
  },
  {
   "cell_type": "code",
   "execution_count": 56,
   "id": "52b05ed6",
   "metadata": {},
   "outputs": [
    {
     "name": "stdout",
     "output_type": "stream",
     "text": [
      "Progress: 3 / 2321 Thread 2 Block 612864\n",
      "Progress: 4 / 2321 Thread 1 Block 612865\n",
      "Progress: 1 / 2321 Thread 4 Block 612862\n",
      "Progress: 2 / 2321 Thread 3 Block 612863\n",
      "Progress: 5 / 2321 Thread 0 Block 612866\n"
     ]
    }
   ],
   "source": [
    "for thread_idx in range(10):\n",
    "    t = threading.Thread(target = reader, args = (thread_idx,))\n",
    "    t.start()"
   ]
  },
  {
   "cell_type": "code",
   "execution_count": 51,
   "id": "8a79ac65",
   "metadata": {},
   "outputs": [
    {
     "data": {
      "text/plain": [
       "0"
      ]
     },
     "execution_count": 51,
     "metadata": {},
     "output_type": "execute_result"
    }
   ],
   "source": [
    "q.qsize()"
   ]
  },
  {
   "cell_type": "code",
   "execution_count": null,
   "id": "ef215d82",
   "metadata": {},
   "outputs": [],
   "source": []
  }
 ],
 "metadata": {
  "kernelspec": {
   "display_name": "env_name",
   "language": "python",
   "name": "env_name"
  },
  "language_info": {
   "codemirror_mode": {
    "name": "ipython",
    "version": 3
   },
   "file_extension": ".py",
   "mimetype": "text/x-python",
   "name": "python",
   "nbconvert_exporter": "python",
   "pygments_lexer": "ipython3",
   "version": "3.6.13"
  }
 },
 "nbformat": 4,
 "nbformat_minor": 5
}
