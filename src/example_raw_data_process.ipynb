{
 "cells": [
  {
   "cell_type": "code",
   "execution_count": 1,
   "metadata": {},
   "outputs": [],
   "source": [
    "#!/usr/bin/env env_name"
   ]
  },
  {
   "cell_type": "code",
   "execution_count": 3,
   "metadata": {},
   "outputs": [
    {
     "name": "stdout",
     "output_type": "stream",
     "text": [
      "Collecting matplotlib\n",
      "  Downloading matplotlib-3.3.4-cp36-cp36m-macosx_10_9_x86_64.whl (8.5 MB)\n",
      "     |████████████████████████████████| 8.5 MB 6.9 MB/s            \n",
      "\u001b[?25hCollecting pillow>=6.2.0\n",
      "  Downloading Pillow-8.4.0-cp36-cp36m-macosx_10_10_x86_64.whl (3.0 MB)\n",
      "     |████████████████████████████████| 3.0 MB 28.8 MB/s            \n",
      "\u001b[?25hCollecting cycler>=0.10\n",
      "  Downloading cycler-0.11.0-py3-none-any.whl (6.4 kB)\n",
      "Requirement already satisfied: python-dateutil>=2.1 in /Users/jackxu/opt/anaconda3/envs/env_name/lib/python3.6/site-packages (from matplotlib) (2.8.2)\n",
      "Collecting kiwisolver>=1.0.1\n",
      "  Downloading kiwisolver-1.3.1-cp36-cp36m-macosx_10_9_x86_64.whl (61 kB)\n",
      "     |████████████████████████████████| 61 kB 22.9 MB/s            \n",
      "\u001b[?25hRequirement already satisfied: numpy>=1.15 in /Users/jackxu/opt/anaconda3/envs/env_name/lib/python3.6/site-packages (from matplotlib) (1.19.5)\n",
      "Collecting pyparsing!=2.0.4,!=2.1.2,!=2.1.6,>=2.0.3\n",
      "  Downloading pyparsing-3.0.6-py3-none-any.whl (97 kB)\n",
      "     |████████████████████████████████| 97 kB 12.5 MB/s            \n",
      "\u001b[?25hRequirement already satisfied: six>=1.5 in /Users/jackxu/opt/anaconda3/envs/env_name/lib/python3.6/site-packages (from python-dateutil>=2.1->matplotlib) (1.16.0)\n",
      "Installing collected packages: pyparsing, pillow, kiwisolver, cycler, matplotlib\n",
      "Successfully installed cycler-0.11.0 kiwisolver-1.3.1 matplotlib-3.3.4 pillow-8.4.0 pyparsing-3.0.6\n"
     ]
    }
   ],
   "source": [
    "!pip3 install matplotlib"
   ]
  },
  {
   "cell_type": "code",
   "execution_count": 6,
   "metadata": {},
   "outputs": [
    {
     "name": "stderr",
     "output_type": "stream",
     "text": [
      "/Users/jackxu/opt/anaconda3/envs/env_name/lib/python3.6/site-packages/pyspark/context.py:238: FutureWarning: Python 3.6 support is deprecated in Spark 3.2.\n",
      "  FutureWarning\n"
     ]
    }
   ],
   "source": [
    "from pyspark import SparkConf, SparkContext\n",
    "conf = SparkConf().setAppName(\"App\")\n",
    "conf = (conf.setMaster('local[*]')\n",
    "        .set('spark.executor.memory', '8G')\n",
    "        .set('spark.driver.memory', '8G')\n",
    "        .set('spark.driver.maxResultSize', '10G'))\n",
    "sc = SparkContext(conf=conf)\n",
    "# sc = pyspark.SparkContext().getOrCreate()"
   ]
  },
  {
   "cell_type": "code",
   "execution_count": 1,
   "metadata": {},
   "outputs": [],
   "source": [
    "from file_parse import FileParser\n",
    "from transaction import *\n",
    "from utils import *\n",
    "from header import *\n",
    "from get_block_uilts import *\n",
    "import matplotlib.pyplot as plt\n",
    "import numpy as np\n",
    "import pandas as pd"
   ]
  },
  {
   "cell_type": "markdown",
   "metadata": {},
   "source": [
    "## Parse Price Data\n",
    "Parsing hourly btc usd data"
   ]
  },
  {
   "cell_type": "code",
   "execution_count": 33,
   "metadata": {},
   "outputs": [
    {
     "data": {
      "text/html": [
       "<div>\n",
       "<style scoped>\n",
       "    .dataframe tbody tr th:only-of-type {\n",
       "        vertical-align: middle;\n",
       "    }\n",
       "\n",
       "    .dataframe tbody tr th {\n",
       "        vertical-align: top;\n",
       "    }\n",
       "\n",
       "    .dataframe thead th {\n",
       "        text-align: right;\n",
       "    }\n",
       "</style>\n",
       "<table border=\"1\" class=\"dataframe\">\n",
       "  <thead>\n",
       "    <tr style=\"text-align: right;\">\n",
       "      <th></th>\n",
       "      <th>Date</th>\n",
       "      <th>Symbol</th>\n",
       "      <th>Open</th>\n",
       "      <th>High</th>\n",
       "      <th>Low</th>\n",
       "      <th>Close</th>\n",
       "      <th>Volume BTC</th>\n",
       "      <th>Volume USD</th>\n",
       "    </tr>\n",
       "    <tr>\n",
       "      <th>Unix Timestamp</th>\n",
       "      <th></th>\n",
       "      <th></th>\n",
       "      <th></th>\n",
       "      <th></th>\n",
       "      <th></th>\n",
       "      <th></th>\n",
       "      <th></th>\n",
       "      <th></th>\n",
       "    </tr>\n",
       "  </thead>\n",
       "  <tbody>\n",
       "    <tr>\n",
       "      <th>1.605856e+09</th>\n",
       "      <td>2020-11-20 07-AM</td>\n",
       "      <td>BTCUSD</td>\n",
       "      <td>18168.59</td>\n",
       "      <td>18390.00</td>\n",
       "      <td>18100.00</td>\n",
       "      <td>18194.27</td>\n",
       "      <td>38.38</td>\n",
       "      <td>701023.30</td>\n",
       "    </tr>\n",
       "    <tr>\n",
       "      <th>1.605852e+09</th>\n",
       "      <td>2020-11-20 06-AM</td>\n",
       "      <td>BTCUSD</td>\n",
       "      <td>18131.05</td>\n",
       "      <td>18187.32</td>\n",
       "      <td>18081.10</td>\n",
       "      <td>18168.59</td>\n",
       "      <td>12.34</td>\n",
       "      <td>223894.64</td>\n",
       "    </tr>\n",
       "    <tr>\n",
       "      <th>1.605848e+09</th>\n",
       "      <td>2020-11-20 05-AM</td>\n",
       "      <td>BTCUSD</td>\n",
       "      <td>18201.11</td>\n",
       "      <td>18227.37</td>\n",
       "      <td>18059.67</td>\n",
       "      <td>18131.05</td>\n",
       "      <td>22.04</td>\n",
       "      <td>399275.36</td>\n",
       "    </tr>\n",
       "    <tr>\n",
       "      <th>1.605845e+09</th>\n",
       "      <td>2020-11-20 04-AM</td>\n",
       "      <td>BTCUSD</td>\n",
       "      <td>17956.22</td>\n",
       "      <td>18234.99</td>\n",
       "      <td>17945.16</td>\n",
       "      <td>18201.11</td>\n",
       "      <td>41.49</td>\n",
       "      <td>751712.38</td>\n",
       "    </tr>\n",
       "    <tr>\n",
       "      <th>1.605841e+09</th>\n",
       "      <td>2020-11-20 03-AM</td>\n",
       "      <td>BTCUSD</td>\n",
       "      <td>17972.49</td>\n",
       "      <td>18028.19</td>\n",
       "      <td>17954.06</td>\n",
       "      <td>17956.22</td>\n",
       "      <td>14.29</td>\n",
       "      <td>257112.53</td>\n",
       "    </tr>\n",
       "    <tr>\n",
       "      <th>...</th>\n",
       "      <td>...</td>\n",
       "      <td>...</td>\n",
       "      <td>...</td>\n",
       "      <td>...</td>\n",
       "      <td>...</td>\n",
       "      <td>...</td>\n",
       "      <td>...</td>\n",
       "      <td>...</td>\n",
       "    </tr>\n",
       "    <tr>\n",
       "      <th>1.498921e+09</th>\n",
       "      <td>2017-07-01 03-PM</td>\n",
       "      <td>BTCUSD</td>\n",
       "      <td>2373.00</td>\n",
       "      <td>2399.10</td>\n",
       "      <td>2352.00</td>\n",
       "      <td>2397.00</td>\n",
       "      <td>99.25</td>\n",
       "      <td>235892.48</td>\n",
       "    </tr>\n",
       "    <tr>\n",
       "      <th>1.498918e+09</th>\n",
       "      <td>2017-07-01 02-PM</td>\n",
       "      <td>BTCUSD</td>\n",
       "      <td>2375.00</td>\n",
       "      <td>2393.43</td>\n",
       "      <td>2360.00</td>\n",
       "      <td>2373.00</td>\n",
       "      <td>130.11</td>\n",
       "      <td>308465.62</td>\n",
       "    </tr>\n",
       "    <tr>\n",
       "      <th>1.498914e+09</th>\n",
       "      <td>2017-07-01 01-PM</td>\n",
       "      <td>BTCUSD</td>\n",
       "      <td>2400.11</td>\n",
       "      <td>2460.00</td>\n",
       "      <td>2375.00</td>\n",
       "      <td>2375.00</td>\n",
       "      <td>112.07</td>\n",
       "      <td>271828.69</td>\n",
       "    </tr>\n",
       "    <tr>\n",
       "      <th>1.498910e+09</th>\n",
       "      <td>2017-07-01 12-PM</td>\n",
       "      <td>BTCUSD</td>\n",
       "      <td>2435.00</td>\n",
       "      <td>2451.00</td>\n",
       "      <td>2393.00</td>\n",
       "      <td>2400.11</td>\n",
       "      <td>48.70</td>\n",
       "      <td>117568.87</td>\n",
       "    </tr>\n",
       "    <tr>\n",
       "      <th>1.498907e+09</th>\n",
       "      <td>2017-07-01 11-AM</td>\n",
       "      <td>BTCUSD</td>\n",
       "      <td>2411.00</td>\n",
       "      <td>2450.15</td>\n",
       "      <td>2411.00</td>\n",
       "      <td>2435.00</td>\n",
       "      <td>127.74</td>\n",
       "      <td>311526.48</td>\n",
       "    </tr>\n",
       "  </tbody>\n",
       "</table>\n",
       "<p>29709 rows × 8 columns</p>\n",
       "</div>"
      ],
      "text/plain": [
       "                            Date  Symbol      Open      High       Low  \\\n",
       "Unix Timestamp                                                           \n",
       "1.605856e+09    2020-11-20 07-AM  BTCUSD  18168.59  18390.00  18100.00   \n",
       "1.605852e+09    2020-11-20 06-AM  BTCUSD  18131.05  18187.32  18081.10   \n",
       "1.605848e+09    2020-11-20 05-AM  BTCUSD  18201.11  18227.37  18059.67   \n",
       "1.605845e+09    2020-11-20 04-AM  BTCUSD  17956.22  18234.99  17945.16   \n",
       "1.605841e+09    2020-11-20 03-AM  BTCUSD  17972.49  18028.19  17954.06   \n",
       "...                          ...     ...       ...       ...       ...   \n",
       "1.498921e+09    2017-07-01 03-PM  BTCUSD   2373.00   2399.10   2352.00   \n",
       "1.498918e+09    2017-07-01 02-PM  BTCUSD   2375.00   2393.43   2360.00   \n",
       "1.498914e+09    2017-07-01 01-PM  BTCUSD   2400.11   2460.00   2375.00   \n",
       "1.498910e+09    2017-07-01 12-PM  BTCUSD   2435.00   2451.00   2393.00   \n",
       "1.498907e+09    2017-07-01 11-AM  BTCUSD   2411.00   2450.15   2411.00   \n",
       "\n",
       "                   Close  Volume BTC  Volume USD  \n",
       "Unix Timestamp                                    \n",
       "1.605856e+09    18194.27       38.38   701023.30  \n",
       "1.605852e+09    18168.59       12.34   223894.64  \n",
       "1.605848e+09    18131.05       22.04   399275.36  \n",
       "1.605845e+09    18201.11       41.49   751712.38  \n",
       "1.605841e+09    17956.22       14.29   257112.53  \n",
       "...                  ...         ...         ...  \n",
       "1.498921e+09     2397.00       99.25   235892.48  \n",
       "1.498918e+09     2373.00      130.11   308465.62  \n",
       "1.498914e+09     2375.00      112.07   271828.69  \n",
       "1.498910e+09     2400.11       48.70   117568.87  \n",
       "1.498907e+09     2435.00      127.74   311526.48  \n",
       "\n",
       "[29709 rows x 8 columns]"
      ]
     },
     "execution_count": 33,
     "metadata": {},
     "output_type": "execute_result"
    }
   ],
   "source": [
    "btc_usd = pd.read_csv(\"../data/Bittrex_BTCUSD_1h.csv\", header=0)\n",
    "btc_usd = btc_usd.set_index('Unix Timestamp')\n",
    "btc_usd"
   ]
  },
  {
   "cell_type": "markdown",
   "metadata": {},
   "source": [
    "## Stream File Parser Workflow\n",
    "\n",
    "To download and parse into list of samples at the same time"
   ]
  },
  {
   "cell_type": "code",
   "execution_count": 54,
   "metadata": {},
   "outputs": [
    {
     "name": "stdout",
     "output_type": "stream",
     "text": [
      "Start: 2020-01-01 End: 2020-01-15\n"
     ]
    }
   ],
   "source": [
    "start_date = time.strptime('2020-01-01', '%Y-%m-%d')\n",
    "end_date = time.strptime('2020-01-15', '%Y-%m-%d')\n",
    "\n",
    "block = blocks_hashlist_by_time(start_date, end_date)"
   ]
  },
  {
   "cell_type": "code",
   "execution_count": 55,
   "metadata": {},
   "outputs": [
    {
     "data": {
      "text/plain": [
       "[(612866, '0000000000000000000bb898960333faaecc81c30217d5b14b6f5d5e94ed2361'),\n",
       " (612865, '0000000000000000000a013f8b18168f63df8a65a19a239a029a15c106872667'),\n",
       " (612864, '0000000000000000000650bc59cd17d268dfaa1c6768fd890d32c1c7b38503d2'),\n",
       " (612863, '0000000000000000000aacba541ebb7b56b0831e4ae33faf20ff1e528bb9a657'),\n",
       " (612862, '00000000000000000003b7749bfd517d2672c6eace8c880794d47dc9040238ba')]"
      ]
     },
     "execution_count": 55,
     "metadata": {},
     "output_type": "execute_result"
    }
   ],
   "source": [
    "block[:5]"
   ]
  },
  {
   "cell_type": "code",
   "execution_count": 56,
   "metadata": {},
   "outputs": [],
   "source": [
    "def avg(x):\n",
    "    return [x[0]*3600, x[1][0]/x[1][4], x[1][1]/x[1][4], x[1][2]/x[1][4], x[1][3]/x[1][4]]\n",
    "\n",
    "def matchPrice(x):\n",
    "    return [x[0], x[1], x[2], x[3], btc_usd.loc[x[0]]['Close']]"
   ]
  },
  {
   "cell_type": "code",
   "execution_count": 67,
   "metadata": {},
   "outputs": [],
   "source": [
    "blk_hash = sc.parallelize(block[:500])\n",
    "fp = FileParser()\n",
    "\n",
    "test = blk_hash.flatMap(lambda blk: \n",
    "                    fp.parse(FileLoader(blocks_blk_by_hash(blk[1], blk[0]))))\n",
    "test = test.map(lambda x: (x[0]//3600, (x[1], x[2], x[3], x[4], 1)))\n",
    "test = test.reduceByKey(lambda a,b: (a[0]+b[0], a[1]+b[1], a[2]+b[2], a[3]+b[3], a[4]+b[4]))\n",
    "test = test.map(lambda x: \n",
    "                matchPrice(avg(x)))\n",
    "res = test.collect()"
   ]
  },
  {
   "cell_type": "code",
   "execution_count": 68,
   "metadata": {},
   "outputs": [
    {
     "data": {
      "text/plain": [
       "[[1579003200, 387212786.0, 585298722.1315109, 1.962319911340968, 8499.62],\n",
       " [1578960000, 387212786.0, 193310224.1986699, 2.5560540483479364, 8260.82],\n",
       " [1578916800, 387212786.0, 211303798.45708197, 2.5082906039821538, 8084.74],\n",
       " [1578873600, 387212786.0, 133464931.84772806, 1.8346340617412418, 8149.52],\n",
       " [1578830400, 387212786.0, 149680873.58245516, 1.9371418007025327, 8133.11],\n",
       " [1578787200, 387212786.0, 189318757.4486039, 1.8640007046595612, 8065.02],\n",
       " [1579006800, 387212786.0, 341445116.77835023, 2.4867558940471524, 8582.27],\n",
       " [1578963600, 387212786.0, 356840467.7865497, 2.230409356725146, 8425.82],\n",
       " [1578920400, 387212786.0, 220546414.37579176, 2.4093408505603118, 8078.23],\n",
       " [1578877200, 387212786.0, 256110211.20331362, 1.8733727810650889, 8145.72],\n",
       " [1578834000, 387212786.0, 226140537.14479855, 2.0583787922289214, 8155.09],\n",
       " [1578790800, 387212786.0, 313316483.8042376, 1.7264801297648014, 8063.39],\n",
       " [1579010400, 387212786.0, 453552071.37782246, 2.3834505862646567, 8701.55],\n",
       " [1578967200, 387212786.0, 324633076.2384442, 2.395181772004934, 8420.0],\n",
       " [1578924000, 387212786.0, 502365742.1472645, 2.679144385026738, 8082.31],\n",
       " [1578880800, 387212786.0, 394902476.49620205, 1.9141663501709076, 8108.64],\n",
       " [1578837600, 387212786.0, 110666984.61472647, 2.100985221674877, 8131.75],\n",
       " [1578794400, 387212786.0, 247664780.0955035, 2.0693368600037787, 8085.01],\n",
       " [1579014000, 387212786.0, 375874740.7170545, 2.151920456266088, 8685.56],\n",
       " [1578970800, 387212786.0, 228947739.46610627, 2.856250481992751, 8475.1],\n",
       " [1578927600, 387212786.0, 196198127.3481225, 2.2574030731657677, 8077.6],\n",
       " [1578884400, 387212786.0, 285811187.0977, 2.2224031481104554, 8099.34],\n",
       " [1578841200, 387212786.0, 174590516.59599224, 2.5610859728506785, 8150.6],\n",
       " [1578798000, 387212786.0, 197452873.03925234, 1.895622233152976, 8084.29],\n",
       " [1578754800, 387212786.0, 135598472.95046836, 2.3048722959768178, 8095.24],\n",
       " [1579017600, 387212786.0, 293623671.865128, 2.26636197440585, 8663.78],\n",
       " [1578974400, 387212786.0, 366972757.424518, 3.150090942160786, 8531.91],\n",
       " [1578931200, 387212786.0, 189208092.89594054, 2.4299599771297884, 8099.32],\n",
       " [1578888000, 387212786.0, 125913903.40009098, 1.8324803821221427, 8107.49],\n",
       " [1578844800, 387212786.0, 136881484.51089492, 1.9996668221496634, 8102.81],\n",
       " [1578801600, 387212786.0, 179657389.55482662, 1.7373008434864106, 8073.81],\n",
       " [1578758400, 387212786.0, 190168192.2341009, 2.179945142565542, 8163.21],\n",
       " [1579021200, 387212786.0, 1469746175.8148017, 2.0235399019170752, 8777.72],\n",
       " [1578978000, 387212786.0, 298565974.6539493, 2.353999006458023, 8480.0],\n",
       " [1578934800, 387212786.0, 281437305.8553041, 1.8703625809708084, 8092.17],\n",
       " [1578891600, 387212786.0, 173178201.3913331, 2.0344029110155475, 8090.41],\n",
       " [1578848400, 387212786.0, 135621888.93292114, 1.6942986555467683, 8107.7],\n",
       " [1578805200, 387212786.0, 131614805.36469933, 1.6775055679287305, 8097.71],\n",
       " [1578762000, 387212786.0, 186312302.33059436, 1.897493837304848, 8164.18],\n",
       " [1579024800, 387212786.0, 487738944.2350344, 1.9954087939254812, 8775.0],\n",
       " [1578981600, 387212786.0, 205711446.74498737, 3.1090985678180285, 8499.45],\n",
       " [1578938400, 387212786.0, 584496075.6723081, 1.786256200758681, 8103.71],\n",
       " [1578895200, 387212786.0, 184371058.41855296, 1.939591723371754, 8055.67],\n",
       " [1578852000, 387212786.0, 136517268.42891547, 2.0990607690455167, 8118.68],\n",
       " [1578808800, 387212786.0, 169571036.0863892, 1.8042744656917886, 8083.0],\n",
       " [1578765600, 387212786.0, 234227190.07101965, 2.089741606065295, 8166.69],\n",
       " [1579028400, 387212786.0, 506594042.9164988, 2.091784195209313, 8769.74],\n",
       " [1578985200, 387212786.0, 227976889.4973502, 2.088191330343797, 8500.0],\n",
       " [1578942000, 387212786.0, 345289108.56080514, 1.9482903823479871, 8113.0],\n",
       " [1578898800, 387212786.0, 209882860.81593, 2.154281670205237, 8070.0],\n",
       " [1578855600, 387212786.0, 237251738.36359814, 3.1375928261174164, 8125.42],\n",
       " [1578812400, 387212786.0, 150806051.9327239, 1.8168833023853734, 8092.07],\n",
       " [1578769200, 387212786.0, 132865258.98884277, 1.8298388400797714, 8151.66],\n",
       " [1579032000, 387212786.0, 358474301.856622, 2.084089786926963, 8675.15],\n",
       " [1578988800, 387212786.0, 268664455.15657455, 2.379693241731906, 8510.7],\n",
       " [1578945600, 387212786.0, 264836706.76692507, 1.9450606241303916, 8157.55],\n",
       " [1578902400, 387212786.0, 151551147.76528955, 2.238499007757532, 8108.93],\n",
       " [1578859200, 387212786.0, 246106775.51639685, 1.8890618513906186, 8144.6],\n",
       " [1578816000, 387212786.0, 139774732.09915084, 1.8664668664668664, 8129.38],\n",
       " [1578772800, 387212786.0, 230263266.27250028, 1.9367835659970492, 8155.51],\n",
       " [1579035600, 387212786.0, 240090893.6770106, 2.2926268244740915, 8740.62],\n",
       " [1578992400, 387212786.0, 296359163.21238613, 2.2215719682939477, 8489.95],\n",
       " [1578949200, 387212786.0, 336339784.3223308, 2.12595952547104, 8135.26],\n",
       " [1578906000, 387212786.0, 191484357.43824878, 2.6750643824879634, 8102.56],\n",
       " [1578862800, 387212786.0, 148325244.2193327, 1.9914416835490139, 8099.0],\n",
       " [1578819600, 387212786.0, 139097588.89621282, 1.870063119927863, 8125.97],\n",
       " [1578776400, 387212786.0, 148476838.28315413, 1.7274589210073081, 8109.12],\n",
       " [1579039200, 387212786.0, 572913647.1959504, 2.7823633547244966, 8732.52],\n",
       " [1578996000, 387212786.0, 222072988.40935525, 2.5684447501719716, 8514.61],\n",
       " [1578952800, 387212786.0, 259342756.1671167, 2.282253225322532, 8127.78],\n",
       " [1578909600, 387212786.0, 151336367.0265755, 3.0520544410759207, 8108.8],\n",
       " [1578866400, 387212786.0, 142987333.1738219, 1.9075745146294778, 8156.92],\n",
       " [1578823200, 387212786.0, 219092526.5301086, 1.9055012115229293, 8121.1],\n",
       " [1578780000, 387212786.0, 195229074.0546362, 2.1646482388832395, 8072.01],\n",
       " [1579042800,\n",
       "  387188220.46891993,\n",
       "  265709108.3361327,\n",
       "  3.0997453018517245,\n",
       "  8830.33],\n",
       " [1578999600, 387212786.0, 311568237.7079806, 2.157808090310442, 8520.0],\n",
       " [1578956400, 387212786.0, 270908953.7683284, 1.9408314645506297, 8107.85],\n",
       " [1578913200, 387212786.0, 123987527.58109142, 2.960903324584427, 8079.38],\n",
       " [1578870000, 387212786.0, 196858724.6313978, 1.672988211173757, 8187.56],\n",
       " [1578826800, 387212786.0, 248009606.80833876, 2.225603785900783, 8097.81],\n",
       " [1578783600, 387212786.0, 127011498.61804922, 1.588498936493467, 8022.15]]"
      ]
     },
     "execution_count": 68,
     "metadata": {},
     "output_type": "execute_result"
    }
   ],
   "source": [
    "res"
   ]
  },
  {
   "cell_type": "code",
   "execution_count": 69,
   "metadata": {},
   "outputs": [],
   "source": [
    "res = np.array(res)\n",
    "np.savetxt(\"../data/sample.txt\", res)"
   ]
  },
  {
   "cell_type": "markdown",
   "metadata": {},
   "source": [
    "## Disk File Parser Workflow\n",
    "\n",
    "To parse local blk file into list of samples and output to local "
   ]
  },
  {
   "cell_type": "code",
   "execution_count": null,
   "metadata": {},
   "outputs": [],
   "source": [
    "fp = FileParser()\n",
    "fpath = \"../data/Blocks_612866_610546/*.blk\"\n",
    "\n",
    "# [time, nBits, value, in_count, out_count]\n",
    "raw_data = sc.textFile(fpath)"
   ]
  },
  {
   "cell_type": "code",
   "execution_count": null,
   "metadata": {},
   "outputs": [],
   "source": [
    "raw_data.flatMap(lambda x: fp.parse(FileLoader(x))).map(lambda x: (x[0]//3600, (x[1], x[2], x[3], x[4], 1))).take(5)"
   ]
  },
  {
   "cell_type": "code",
   "execution_count": null,
   "metadata": {},
   "outputs": [],
   "source": [
    "test = raw_data.flatMap(lambda x: fp.parse(FileLoader(x))).map(lambda x: (x[0]//3600, (x[1], x[2], x[3], x[4], 1))).reduceByKey(lambda a,b: (a[0]+b[0], a[1]+b[1], a[2]+b[2], a[3]+b[3], a[4]+b[4])).take(2)"
   ]
  },
  {
   "cell_type": "code",
   "execution_count": null,
   "metadata": {},
   "outputs": [],
   "source": [
    "test"
   ]
  },
  {
   "cell_type": "code",
   "execution_count": null,
   "metadata": {},
   "outputs": [],
   "source": [
    "def avg(x):\n",
    "    print(x)\n",
    "    return [x[0]*3600, x[1][0]/x[1][4], x[1][1]/x[1][4], x[1][2]/x[1][4], x[1][3]/x[1][4]]"
   ]
  },
  {
   "cell_type": "code",
   "execution_count": null,
   "metadata": {},
   "outputs": [],
   "source": [
    "res = raw_data.flatMap(lambda x: fp.parse(FileLoader(x))).map(lambda x: (x[0]//3600, (x[1], x[2], x[3], x[4], 1))).reduceByKey(lambda a,b: (a[0]+b[0], a[1]+b[1], a[2]+b[2], a[3]+b[3], a[4]+b[4])).map(lambda x: avg(x)).collect()"
   ]
  },
  {
   "cell_type": "code",
   "execution_count": null,
   "metadata": {},
   "outputs": [],
   "source": [
    "res = np.array(res)\n",
    "print(res)\n",
    "# [time, nBits, value, in_count, out_count]\n",
    "np.savetxt(\"../data/sample.txt\", res)"
   ]
  },
  {
   "cell_type": "code",
   "execution_count": null,
   "metadata": {},
   "outputs": [],
   "source": [
    "with open('../data/block706515.blk','r') as in_file:\n",
    "    fd = FileLoader(in_file.readline())\n",
    "    output = fp.parse(fd)\n",
    "output"
   ]
  },
  {
   "cell_type": "code",
   "execution_count": null,
   "metadata": {},
   "outputs": [],
   "source": [
    "with open('../data/block706515.blk','r') as in_file:\n",
    "    fd = FileLoader(in_file.readline())\n",
    "    output = fp.parse(fd)\n",
    "output"
   ]
  },
  {
   "cell_type": "code",
   "execution_count": null,
   "metadata": {},
   "outputs": [],
   "source": []
  }
 ],
 "metadata": {
  "interpreter": {
   "hash": "d94139b0a09a74fae7c399e4d26f3dcbdbc270196fdb8e917084ed2e7f940a33"
  },
  "kernelspec": {
   "display_name": "env_name",
   "language": "python",
   "name": "env_name"
  },
  "language_info": {
   "codemirror_mode": {
    "name": "ipython",
    "version": 3
   },
   "file_extension": ".py",
   "mimetype": "text/x-python",
   "name": "python",
   "nbconvert_exporter": "python",
   "pygments_lexer": "ipython3",
   "version": "3.6.13"
  }
 },
 "nbformat": 4,
 "nbformat_minor": 2
}
