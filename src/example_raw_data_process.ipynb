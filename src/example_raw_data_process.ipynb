{
 "cells": [
  {
   "cell_type": "code",
   "execution_count": 1,
   "metadata": {},
   "outputs": [],
   "source": [
    "#!/usr/bin/env env_name"
   ]
  },
  {
   "cell_type": "code",
   "execution_count": 3,
   "metadata": {},
   "outputs": [
    {
     "name": "stdout",
     "output_type": "stream",
     "text": [
      "Package             Version\n",
      "------------------- ---------\n",
      "argon2-cffi         20.1.0\n",
      "async-generator     1.10\n",
      "attrs               21.2.0\n",
      "backcall            0.2.0\n",
      "bleach              4.0.0\n",
      "certifi             2021.5.30\n",
      "cffi                1.14.6\n",
      "charset-normalizer  2.0.8\n",
      "colorama            0.4.4\n",
      "cycler              0.11.0\n",
      "decorator           5.1.0\n",
      "defusedxml          0.7.1\n",
      "entrypoints         0.3\n",
      "idna                3.3\n",
      "importlib-metadata  4.8.1\n",
      "ipykernel           5.3.4\n",
      "ipython             7.16.1\n",
      "ipython-genutils    0.2.0\n",
      "jedi                0.17.0\n",
      "Jinja2              3.0.2\n",
      "jsonschema          3.2.0\n",
      "jupyter-client      7.0.6\n",
      "jupyter-core        4.8.1\n",
      "jupyterlab-pygments 0.1.2\n",
      "kiwisolver          1.3.1\n",
      "MarkupSafe          2.0.1\n",
      "matplotlib          3.3.4\n",
      "mistune             0.8.4\n",
      "nbclient            0.5.3\n",
      "nbconvert           6.0.7\n",
      "nbformat            5.1.3\n",
      "nest-asyncio        1.5.1\n",
      "notebook            6.4.3\n",
      "numpy               1.19.5\n",
      "packaging           21.3\n",
      "pandas              1.1.5\n",
      "pandocfilters       1.4.3\n",
      "parso               0.8.2\n",
      "pickleshare         0.7.5\n",
      "Pillow              8.4.0\n",
      "pip                 21.2.2\n",
      "prometheus-client   0.12.0\n",
      "prompt-toolkit      3.0.20\n",
      "py4j                0.10.9.2\n",
      "pycparser           2.21\n",
      "Pygments            2.10.0\n",
      "pyparsing           3.0.4\n",
      "pyrsistent          0.17.3\n",
      "pyspark             3.2.0\n",
      "python-dateutil     2.8.2\n",
      "pytz                2021.3\n",
      "pywin32             228\n",
      "pywinpty            0.5.7\n",
      "pyzmq               22.2.1\n",
      "requests            2.26.0\n",
      "Send2Trash          1.8.0\n",
      "setuptools          58.0.4\n",
      "six                 1.16.0\n",
      "terminado           0.9.4\n",
      "testpath            0.5.0\n",
      "tornado             6.1\n",
      "traitlets           4.3.3\n",
      "typing-extensions   3.10.0.2\n",
      "urllib3             1.26.7\n",
      "wcwidth             0.2.5\n",
      "webencodings        0.5.1\n",
      "wheel               0.37.0\n",
      "wincertstore        0.2\n",
      "zipp                3.6.0\n"
     ]
    }
   ],
   "source": [
    "!pip3 list"
   ]
  },
  {
   "cell_type": "code",
   "execution_count": 1,
   "metadata": {},
   "outputs": [],
   "source": [
    "from pyspark import SparkConf, SparkContext\n",
    "conf = SparkConf().setAppName(\"App\")\n",
    "conf = (conf.setMaster('local[*]')\n",
    "        .set('spark.executor.memory', '8G')\n",
    "        .set('spark.driver.memory', '8G')\n",
    "        .set('spark.driver.maxResultSize', '10G'))\n",
    "sc = SparkContext(conf=conf)\n",
    "# sc = pyspark.SparkContext().getOrCreate()"
   ]
  },
  {
   "cell_type": "code",
   "execution_count": 2,
   "metadata": {},
   "outputs": [],
   "source": [
    "from file_parse import FileParser\n",
    "from transaction import *\n",
    "from utils import *\n",
    "from header import *\n",
    "from get_block_uilts import *\n",
    "import matplotlib.pyplot as plt\n",
    "import numpy as np\n",
    "import pandas as pd"
   ]
  },
  {
   "cell_type": "markdown",
   "metadata": {},
   "source": [
    "## Parse Price Data\n",
    "Parsing hourly btc usd data"
   ]
  },
  {
   "cell_type": "code",
   "execution_count": 3,
   "metadata": {},
   "outputs": [
    {
     "data": {
      "text/html": [
       "<div>\n",
       "<style scoped>\n",
       "    .dataframe tbody tr th:only-of-type {\n",
       "        vertical-align: middle;\n",
       "    }\n",
       "\n",
       "    .dataframe tbody tr th {\n",
       "        vertical-align: top;\n",
       "    }\n",
       "\n",
       "    .dataframe thead th {\n",
       "        text-align: right;\n",
       "    }\n",
       "</style>\n",
       "<table border=\"1\" class=\"dataframe\">\n",
       "  <thead>\n",
       "    <tr style=\"text-align: right;\">\n",
       "      <th></th>\n",
       "      <th>Date</th>\n",
       "      <th>Symbol</th>\n",
       "      <th>Open</th>\n",
       "      <th>High</th>\n",
       "      <th>Low</th>\n",
       "      <th>Close</th>\n",
       "      <th>Volume BTC</th>\n",
       "      <th>Volume USD</th>\n",
       "    </tr>\n",
       "    <tr>\n",
       "      <th>Unix Timestamp</th>\n",
       "      <th></th>\n",
       "      <th></th>\n",
       "      <th></th>\n",
       "      <th></th>\n",
       "      <th></th>\n",
       "      <th></th>\n",
       "      <th></th>\n",
       "      <th></th>\n",
       "    </tr>\n",
       "  </thead>\n",
       "  <tbody>\n",
       "    <tr>\n",
       "      <th>1.605856e+09</th>\n",
       "      <td>2020-11-20 07-AM</td>\n",
       "      <td>BTCUSD</td>\n",
       "      <td>18168.59</td>\n",
       "      <td>18390.00</td>\n",
       "      <td>18100.00</td>\n",
       "      <td>18194.27</td>\n",
       "      <td>38.38</td>\n",
       "      <td>701023.30</td>\n",
       "    </tr>\n",
       "    <tr>\n",
       "      <th>1.605852e+09</th>\n",
       "      <td>2020-11-20 06-AM</td>\n",
       "      <td>BTCUSD</td>\n",
       "      <td>18131.05</td>\n",
       "      <td>18187.32</td>\n",
       "      <td>18081.10</td>\n",
       "      <td>18168.59</td>\n",
       "      <td>12.34</td>\n",
       "      <td>223894.64</td>\n",
       "    </tr>\n",
       "    <tr>\n",
       "      <th>1.605848e+09</th>\n",
       "      <td>2020-11-20 05-AM</td>\n",
       "      <td>BTCUSD</td>\n",
       "      <td>18201.11</td>\n",
       "      <td>18227.37</td>\n",
       "      <td>18059.67</td>\n",
       "      <td>18131.05</td>\n",
       "      <td>22.04</td>\n",
       "      <td>399275.36</td>\n",
       "    </tr>\n",
       "    <tr>\n",
       "      <th>1.605845e+09</th>\n",
       "      <td>2020-11-20 04-AM</td>\n",
       "      <td>BTCUSD</td>\n",
       "      <td>17956.22</td>\n",
       "      <td>18234.99</td>\n",
       "      <td>17945.16</td>\n",
       "      <td>18201.11</td>\n",
       "      <td>41.49</td>\n",
       "      <td>751712.38</td>\n",
       "    </tr>\n",
       "    <tr>\n",
       "      <th>1.605841e+09</th>\n",
       "      <td>2020-11-20 03-AM</td>\n",
       "      <td>BTCUSD</td>\n",
       "      <td>17972.49</td>\n",
       "      <td>18028.19</td>\n",
       "      <td>17954.06</td>\n",
       "      <td>17956.22</td>\n",
       "      <td>14.29</td>\n",
       "      <td>257112.53</td>\n",
       "    </tr>\n",
       "    <tr>\n",
       "      <th>...</th>\n",
       "      <td>...</td>\n",
       "      <td>...</td>\n",
       "      <td>...</td>\n",
       "      <td>...</td>\n",
       "      <td>...</td>\n",
       "      <td>...</td>\n",
       "      <td>...</td>\n",
       "      <td>...</td>\n",
       "    </tr>\n",
       "    <tr>\n",
       "      <th>1.498921e+09</th>\n",
       "      <td>2017-07-01 03-PM</td>\n",
       "      <td>BTCUSD</td>\n",
       "      <td>2373.00</td>\n",
       "      <td>2399.10</td>\n",
       "      <td>2352.00</td>\n",
       "      <td>2397.00</td>\n",
       "      <td>99.25</td>\n",
       "      <td>235892.48</td>\n",
       "    </tr>\n",
       "    <tr>\n",
       "      <th>1.498918e+09</th>\n",
       "      <td>2017-07-01 02-PM</td>\n",
       "      <td>BTCUSD</td>\n",
       "      <td>2375.00</td>\n",
       "      <td>2393.43</td>\n",
       "      <td>2360.00</td>\n",
       "      <td>2373.00</td>\n",
       "      <td>130.11</td>\n",
       "      <td>308465.62</td>\n",
       "    </tr>\n",
       "    <tr>\n",
       "      <th>1.498914e+09</th>\n",
       "      <td>2017-07-01 01-PM</td>\n",
       "      <td>BTCUSD</td>\n",
       "      <td>2400.11</td>\n",
       "      <td>2460.00</td>\n",
       "      <td>2375.00</td>\n",
       "      <td>2375.00</td>\n",
       "      <td>112.07</td>\n",
       "      <td>271828.69</td>\n",
       "    </tr>\n",
       "    <tr>\n",
       "      <th>1.498910e+09</th>\n",
       "      <td>2017-07-01 12-PM</td>\n",
       "      <td>BTCUSD</td>\n",
       "      <td>2435.00</td>\n",
       "      <td>2451.00</td>\n",
       "      <td>2393.00</td>\n",
       "      <td>2400.11</td>\n",
       "      <td>48.70</td>\n",
       "      <td>117568.87</td>\n",
       "    </tr>\n",
       "    <tr>\n",
       "      <th>1.498907e+09</th>\n",
       "      <td>2017-07-01 11-AM</td>\n",
       "      <td>BTCUSD</td>\n",
       "      <td>2411.00</td>\n",
       "      <td>2450.15</td>\n",
       "      <td>2411.00</td>\n",
       "      <td>2435.00</td>\n",
       "      <td>127.74</td>\n",
       "      <td>311526.48</td>\n",
       "    </tr>\n",
       "  </tbody>\n",
       "</table>\n",
       "<p>29709 rows × 8 columns</p>\n",
       "</div>"
      ],
      "text/plain": [
       "                            Date  Symbol      Open      High       Low  \\\n",
       "Unix Timestamp                                                           \n",
       "1.605856e+09    2020-11-20 07-AM  BTCUSD  18168.59  18390.00  18100.00   \n",
       "1.605852e+09    2020-11-20 06-AM  BTCUSD  18131.05  18187.32  18081.10   \n",
       "1.605848e+09    2020-11-20 05-AM  BTCUSD  18201.11  18227.37  18059.67   \n",
       "1.605845e+09    2020-11-20 04-AM  BTCUSD  17956.22  18234.99  17945.16   \n",
       "1.605841e+09    2020-11-20 03-AM  BTCUSD  17972.49  18028.19  17954.06   \n",
       "...                          ...     ...       ...       ...       ...   \n",
       "1.498921e+09    2017-07-01 03-PM  BTCUSD   2373.00   2399.10   2352.00   \n",
       "1.498918e+09    2017-07-01 02-PM  BTCUSD   2375.00   2393.43   2360.00   \n",
       "1.498914e+09    2017-07-01 01-PM  BTCUSD   2400.11   2460.00   2375.00   \n",
       "1.498910e+09    2017-07-01 12-PM  BTCUSD   2435.00   2451.00   2393.00   \n",
       "1.498907e+09    2017-07-01 11-AM  BTCUSD   2411.00   2450.15   2411.00   \n",
       "\n",
       "                   Close  Volume BTC  Volume USD  \n",
       "Unix Timestamp                                    \n",
       "1.605856e+09    18194.27       38.38   701023.30  \n",
       "1.605852e+09    18168.59       12.34   223894.64  \n",
       "1.605848e+09    18131.05       22.04   399275.36  \n",
       "1.605845e+09    18201.11       41.49   751712.38  \n",
       "1.605841e+09    17956.22       14.29   257112.53  \n",
       "...                  ...         ...         ...  \n",
       "1.498921e+09     2397.00       99.25   235892.48  \n",
       "1.498918e+09     2373.00      130.11   308465.62  \n",
       "1.498914e+09     2375.00      112.07   271828.69  \n",
       "1.498910e+09     2400.11       48.70   117568.87  \n",
       "1.498907e+09     2435.00      127.74   311526.48  \n",
       "\n",
       "[29709 rows x 8 columns]"
      ]
     },
     "execution_count": 3,
     "metadata": {},
     "output_type": "execute_result"
    }
   ],
   "source": [
    "btc_usd = pd.read_csv(\"../data/Bittrex_BTCUSD_1h.csv\", header=0)\n",
    "btc_usd = btc_usd.set_index('Unix Timestamp')\n",
    "btc_usd"
   ]
  },
  {
   "cell_type": "markdown",
   "metadata": {},
   "source": [
    "## Stream File Parser Workflow\n",
    "\n",
    "To download and parse into list of samples at the same time"
   ]
  },
  {
   "cell_type": "code",
   "execution_count": 54,
   "metadata": {},
   "outputs": [
    {
     "name": "stdout",
     "output_type": "stream",
     "text": [
      "Start: 2020-01-01 End: 2020-01-15\n"
     ]
    }
   ],
   "source": [
    "start_date = time.strptime('2020-01-01', '%Y-%m-%d')\n",
    "end_date = time.strptime('2020-01-15', '%Y-%m-%d')\n",
    "\n",
    "block = blocks_hashlist_by_time(start_date, end_date)"
   ]
  },
  {
   "cell_type": "code",
   "execution_count": 55,
   "metadata": {},
   "outputs": [
    {
     "data": {
      "text/plain": [
       "[(612866, '0000000000000000000bb898960333faaecc81c30217d5b14b6f5d5e94ed2361'),\n",
       " (612865, '0000000000000000000a013f8b18168f63df8a65a19a239a029a15c106872667'),\n",
       " (612864, '0000000000000000000650bc59cd17d268dfaa1c6768fd890d32c1c7b38503d2'),\n",
       " (612863, '0000000000000000000aacba541ebb7b56b0831e4ae33faf20ff1e528bb9a657'),\n",
       " (612862, '00000000000000000003b7749bfd517d2672c6eace8c880794d47dc9040238ba')]"
      ]
     },
     "execution_count": 55,
     "metadata": {},
     "output_type": "execute_result"
    }
   ],
   "source": [
    "block[:5]"
   ]
  },
  {
   "cell_type": "code",
   "execution_count": 4,
   "metadata": {},
   "outputs": [],
   "source": [
    "def avg(x):\n",
    "    return [x[0]*3600, x[1][0]/x[1][4], x[1][1]/x[1][4], x[1][2]/x[1][4], x[1][3]/x[1][4]]\n",
    "\n",
    "def matchPrice(x):\n",
    "    return [x[0], x[1], x[2], x[3], x[4], btc_usd.loc[x[0]]['Close']]\n",
    "\n",
    "def toCSVLine(data):\n",
    "    return ','.join(str(d) for d in data)"
   ]
  },
  {
   "cell_type": "code",
   "execution_count": null,
   "metadata": {},
   "outputs": [],
   "source": [
    "fp = FileParser()\n",
    "fpath = \"../data/Blocks_501797_473593/*.blk\"\n",
    "\n",
    "# [time, nBits, value, in_count, out_count]\n",
    "raw_data = sc.textFile(fpath, 50)\n",
    "\n",
    "test = raw_data.flatMap(lambda blk: \n",
    "                    fp.parse(FileLoader(blk)))\n",
    "test = test.map(lambda x: (x[0]//3600, (x[1], x[2], x[3], x[4], 1)))\n",
    "test = test.reduceByKey(lambda a,b: (a[0]+b[0], a[1]+b[1], a[2]+b[2], a[3]+b[3], a[4]+b[4]))\n",
    "test = test.map(lambda x: toCSVLine(avg(x)))\n",
    "test.saveAsTextFile('../nd/2017.csv')"
   ]
  },
  {
   "cell_type": "code",
   "execution_count": 24,
   "metadata": {},
   "outputs": [
    {
     "data": {
      "text/plain": [
       "[[1498953600,\n",
       "  402754545.0475209,\n",
       "  803627253.1795489,\n",
       "  3.1025993358525135,\n",
       "  2.8846902553532576,\n",
       "  2325.37],\n",
       " [1498957200,\n",
       "  402754864.0,\n",
       "  899646979.492225,\n",
       "  4.557251908396947,\n",
       "  2.2150127226463106,\n",
       "  2338.0]]"
      ]
     },
     "execution_count": 24,
     "metadata": {},
     "output_type": "execute_result"
    }
   ],
   "source": [
    "test2 = test.map(lambda x: matchPrice(avg(x)))\n",
    "test2.take(2)\n",
    "test2.saveAsTextFile('../nd/test.csv')"
   ]
  },
  {
   "cell_type": "code",
   "execution_count": 21,
   "metadata": {},
   "outputs": [
    {
     "ename": "KeyError",
     "evalue": "1498870800",
     "output_type": "error",
     "traceback": [
      "\u001b[1;31m---------------------------------------------------------------------------\u001b[0m",
      "\u001b[1;31mKeyError\u001b[0m                                  Traceback (most recent call last)",
      "\u001b[1;32mC:\\ProgramData\\Anaconda3\\envs\\btc2\\lib\\site-packages\\pandas\\core\\indexes\\base.py\u001b[0m in \u001b[0;36mget_loc\u001b[1;34m(self, key, method, tolerance)\u001b[0m\n\u001b[0;32m   2897\u001b[0m             \u001b[1;32mtry\u001b[0m\u001b[1;33m:\u001b[0m\u001b[1;33m\u001b[0m\u001b[1;33m\u001b[0m\u001b[0m\n\u001b[1;32m-> 2898\u001b[1;33m                 \u001b[1;32mreturn\u001b[0m \u001b[0mself\u001b[0m\u001b[1;33m.\u001b[0m\u001b[0m_engine\u001b[0m\u001b[1;33m.\u001b[0m\u001b[0mget_loc\u001b[0m\u001b[1;33m(\u001b[0m\u001b[0mcasted_key\u001b[0m\u001b[1;33m)\u001b[0m\u001b[1;33m\u001b[0m\u001b[1;33m\u001b[0m\u001b[0m\n\u001b[0m\u001b[0;32m   2899\u001b[0m             \u001b[1;32mexcept\u001b[0m \u001b[0mKeyError\u001b[0m \u001b[1;32mas\u001b[0m \u001b[0merr\u001b[0m\u001b[1;33m:\u001b[0m\u001b[1;33m\u001b[0m\u001b[1;33m\u001b[0m\u001b[0m\n",
      "\u001b[1;32mpandas\\_libs\\index.pyx\u001b[0m in \u001b[0;36mpandas._libs.index.IndexEngine.get_loc\u001b[1;34m()\u001b[0m\n",
      "\u001b[1;32mpandas\\_libs\\index.pyx\u001b[0m in \u001b[0;36mpandas._libs.index.IndexEngine.get_loc\u001b[1;34m()\u001b[0m\n",
      "\u001b[1;32mpandas\\_libs\\index.pyx\u001b[0m in \u001b[0;36mpandas._libs.index.IndexEngine._get_loc_duplicates\u001b[1;34m()\u001b[0m\n",
      "\u001b[1;32mpandas\\_libs\\index_class_helper.pxi\u001b[0m in \u001b[0;36mpandas._libs.index.Float64Engine._maybe_get_bool_indexer\u001b[1;34m()\u001b[0m\n",
      "\u001b[1;32mpandas\\_libs\\index.pyx\u001b[0m in \u001b[0;36mpandas._libs.index.IndexEngine._unpack_bool_indexer\u001b[1;34m()\u001b[0m\n",
      "\u001b[1;31mKeyError\u001b[0m: 1498870800",
      "\nThe above exception was the direct cause of the following exception:\n",
      "\u001b[1;31mKeyError\u001b[0m                                  Traceback (most recent call last)",
      "\u001b[1;32m<ipython-input-21-d776006dbada>\u001b[0m in \u001b[0;36m<module>\u001b[1;34m\u001b[0m\n\u001b[1;32m----> 1\u001b[1;33m \u001b[0mbtc_usd\u001b[0m\u001b[1;33m.\u001b[0m\u001b[0mloc\u001b[0m\u001b[1;33m[\u001b[0m\u001b[1;36m1498870800\u001b[0m\u001b[1;33m]\u001b[0m\u001b[1;33m[\u001b[0m\u001b[1;34m'Close'\u001b[0m\u001b[1;33m]\u001b[0m\u001b[1;33m\u001b[0m\u001b[1;33m\u001b[0m\u001b[0m\n\u001b[0m",
      "\u001b[1;32mC:\\ProgramData\\Anaconda3\\envs\\btc2\\lib\\site-packages\\pandas\\core\\indexing.py\u001b[0m in \u001b[0;36m__getitem__\u001b[1;34m(self, key)\u001b[0m\n\u001b[0;32m    877\u001b[0m \u001b[1;33m\u001b[0m\u001b[0m\n\u001b[0;32m    878\u001b[0m             \u001b[0mmaybe_callable\u001b[0m \u001b[1;33m=\u001b[0m \u001b[0mcom\u001b[0m\u001b[1;33m.\u001b[0m\u001b[0mapply_if_callable\u001b[0m\u001b[1;33m(\u001b[0m\u001b[0mkey\u001b[0m\u001b[1;33m,\u001b[0m \u001b[0mself\u001b[0m\u001b[1;33m.\u001b[0m\u001b[0mobj\u001b[0m\u001b[1;33m)\u001b[0m\u001b[1;33m\u001b[0m\u001b[1;33m\u001b[0m\u001b[0m\n\u001b[1;32m--> 879\u001b[1;33m             \u001b[1;32mreturn\u001b[0m \u001b[0mself\u001b[0m\u001b[1;33m.\u001b[0m\u001b[0m_getitem_axis\u001b[0m\u001b[1;33m(\u001b[0m\u001b[0mmaybe_callable\u001b[0m\u001b[1;33m,\u001b[0m \u001b[0maxis\u001b[0m\u001b[1;33m=\u001b[0m\u001b[0maxis\u001b[0m\u001b[1;33m)\u001b[0m\u001b[1;33m\u001b[0m\u001b[1;33m\u001b[0m\u001b[0m\n\u001b[0m\u001b[0;32m    880\u001b[0m \u001b[1;33m\u001b[0m\u001b[0m\n\u001b[0;32m    881\u001b[0m     \u001b[1;32mdef\u001b[0m \u001b[0m_is_scalar_access\u001b[0m\u001b[1;33m(\u001b[0m\u001b[0mself\u001b[0m\u001b[1;33m,\u001b[0m \u001b[0mkey\u001b[0m\u001b[1;33m:\u001b[0m \u001b[0mTuple\u001b[0m\u001b[1;33m)\u001b[0m\u001b[1;33m:\u001b[0m\u001b[1;33m\u001b[0m\u001b[1;33m\u001b[0m\u001b[0m\n",
      "\u001b[1;32mC:\\ProgramData\\Anaconda3\\envs\\btc2\\lib\\site-packages\\pandas\\core\\indexing.py\u001b[0m in \u001b[0;36m_getitem_axis\u001b[1;34m(self, key, axis)\u001b[0m\n\u001b[0;32m   1108\u001b[0m         \u001b[1;31m# fall thru to straight lookup\u001b[0m\u001b[1;33m\u001b[0m\u001b[1;33m\u001b[0m\u001b[1;33m\u001b[0m\u001b[0m\n\u001b[0;32m   1109\u001b[0m         \u001b[0mself\u001b[0m\u001b[1;33m.\u001b[0m\u001b[0m_validate_key\u001b[0m\u001b[1;33m(\u001b[0m\u001b[0mkey\u001b[0m\u001b[1;33m,\u001b[0m \u001b[0maxis\u001b[0m\u001b[1;33m)\u001b[0m\u001b[1;33m\u001b[0m\u001b[1;33m\u001b[0m\u001b[0m\n\u001b[1;32m-> 1110\u001b[1;33m         \u001b[1;32mreturn\u001b[0m \u001b[0mself\u001b[0m\u001b[1;33m.\u001b[0m\u001b[0m_get_label\u001b[0m\u001b[1;33m(\u001b[0m\u001b[0mkey\u001b[0m\u001b[1;33m,\u001b[0m \u001b[0maxis\u001b[0m\u001b[1;33m=\u001b[0m\u001b[0maxis\u001b[0m\u001b[1;33m)\u001b[0m\u001b[1;33m\u001b[0m\u001b[1;33m\u001b[0m\u001b[0m\n\u001b[0m\u001b[0;32m   1111\u001b[0m \u001b[1;33m\u001b[0m\u001b[0m\n\u001b[0;32m   1112\u001b[0m     \u001b[1;32mdef\u001b[0m \u001b[0m_get_slice_axis\u001b[0m\u001b[1;33m(\u001b[0m\u001b[0mself\u001b[0m\u001b[1;33m,\u001b[0m \u001b[0mslice_obj\u001b[0m\u001b[1;33m:\u001b[0m \u001b[0mslice\u001b[0m\u001b[1;33m,\u001b[0m \u001b[0maxis\u001b[0m\u001b[1;33m:\u001b[0m \u001b[0mint\u001b[0m\u001b[1;33m)\u001b[0m\u001b[1;33m:\u001b[0m\u001b[1;33m\u001b[0m\u001b[1;33m\u001b[0m\u001b[0m\n",
      "\u001b[1;32mC:\\ProgramData\\Anaconda3\\envs\\btc2\\lib\\site-packages\\pandas\\core\\indexing.py\u001b[0m in \u001b[0;36m_get_label\u001b[1;34m(self, label, axis)\u001b[0m\n\u001b[0;32m   1057\u001b[0m     \u001b[1;32mdef\u001b[0m \u001b[0m_get_label\u001b[0m\u001b[1;33m(\u001b[0m\u001b[0mself\u001b[0m\u001b[1;33m,\u001b[0m \u001b[0mlabel\u001b[0m\u001b[1;33m,\u001b[0m \u001b[0maxis\u001b[0m\u001b[1;33m:\u001b[0m \u001b[0mint\u001b[0m\u001b[1;33m)\u001b[0m\u001b[1;33m:\u001b[0m\u001b[1;33m\u001b[0m\u001b[1;33m\u001b[0m\u001b[0m\n\u001b[0;32m   1058\u001b[0m         \u001b[1;31m# GH#5667 this will fail if the label is not present in the axis.\u001b[0m\u001b[1;33m\u001b[0m\u001b[1;33m\u001b[0m\u001b[1;33m\u001b[0m\u001b[0m\n\u001b[1;32m-> 1059\u001b[1;33m         \u001b[1;32mreturn\u001b[0m \u001b[0mself\u001b[0m\u001b[1;33m.\u001b[0m\u001b[0mobj\u001b[0m\u001b[1;33m.\u001b[0m\u001b[0mxs\u001b[0m\u001b[1;33m(\u001b[0m\u001b[0mlabel\u001b[0m\u001b[1;33m,\u001b[0m \u001b[0maxis\u001b[0m\u001b[1;33m=\u001b[0m\u001b[0maxis\u001b[0m\u001b[1;33m)\u001b[0m\u001b[1;33m\u001b[0m\u001b[1;33m\u001b[0m\u001b[0m\n\u001b[0m\u001b[0;32m   1060\u001b[0m \u001b[1;33m\u001b[0m\u001b[0m\n\u001b[0;32m   1061\u001b[0m     \u001b[1;32mdef\u001b[0m \u001b[0m_handle_lowerdim_multi_index_axis0\u001b[0m\u001b[1;33m(\u001b[0m\u001b[0mself\u001b[0m\u001b[1;33m,\u001b[0m \u001b[0mtup\u001b[0m\u001b[1;33m:\u001b[0m \u001b[0mTuple\u001b[0m\u001b[1;33m)\u001b[0m\u001b[1;33m:\u001b[0m\u001b[1;33m\u001b[0m\u001b[1;33m\u001b[0m\u001b[0m\n",
      "\u001b[1;32mC:\\ProgramData\\Anaconda3\\envs\\btc2\\lib\\site-packages\\pandas\\core\\generic.py\u001b[0m in \u001b[0;36mxs\u001b[1;34m(self, key, axis, level, drop_level)\u001b[0m\n\u001b[0;32m   3491\u001b[0m             \u001b[0mloc\u001b[0m\u001b[1;33m,\u001b[0m \u001b[0mnew_index\u001b[0m \u001b[1;33m=\u001b[0m \u001b[0mself\u001b[0m\u001b[1;33m.\u001b[0m\u001b[0mindex\u001b[0m\u001b[1;33m.\u001b[0m\u001b[0mget_loc_level\u001b[0m\u001b[1;33m(\u001b[0m\u001b[0mkey\u001b[0m\u001b[1;33m,\u001b[0m \u001b[0mdrop_level\u001b[0m\u001b[1;33m=\u001b[0m\u001b[0mdrop_level\u001b[0m\u001b[1;33m)\u001b[0m\u001b[1;33m\u001b[0m\u001b[1;33m\u001b[0m\u001b[0m\n\u001b[0;32m   3492\u001b[0m         \u001b[1;32melse\u001b[0m\u001b[1;33m:\u001b[0m\u001b[1;33m\u001b[0m\u001b[1;33m\u001b[0m\u001b[0m\n\u001b[1;32m-> 3493\u001b[1;33m             \u001b[0mloc\u001b[0m \u001b[1;33m=\u001b[0m \u001b[0mself\u001b[0m\u001b[1;33m.\u001b[0m\u001b[0mindex\u001b[0m\u001b[1;33m.\u001b[0m\u001b[0mget_loc\u001b[0m\u001b[1;33m(\u001b[0m\u001b[0mkey\u001b[0m\u001b[1;33m)\u001b[0m\u001b[1;33m\u001b[0m\u001b[1;33m\u001b[0m\u001b[0m\n\u001b[0m\u001b[0;32m   3494\u001b[0m \u001b[1;33m\u001b[0m\u001b[0m\n\u001b[0;32m   3495\u001b[0m             \u001b[1;32mif\u001b[0m \u001b[0misinstance\u001b[0m\u001b[1;33m(\u001b[0m\u001b[0mloc\u001b[0m\u001b[1;33m,\u001b[0m \u001b[0mnp\u001b[0m\u001b[1;33m.\u001b[0m\u001b[0mndarray\u001b[0m\u001b[1;33m)\u001b[0m\u001b[1;33m:\u001b[0m\u001b[1;33m\u001b[0m\u001b[1;33m\u001b[0m\u001b[0m\n",
      "\u001b[1;32mC:\\ProgramData\\Anaconda3\\envs\\btc2\\lib\\site-packages\\pandas\\core\\indexes\\numeric.py\u001b[0m in \u001b[0;36mget_loc\u001b[1;34m(self, key, method, tolerance)\u001b[0m\n\u001b[0;32m    422\u001b[0m             \u001b[1;32mreturn\u001b[0m \u001b[0mnan_idxs\u001b[0m\u001b[1;33m\u001b[0m\u001b[1;33m\u001b[0m\u001b[0m\n\u001b[0;32m    423\u001b[0m \u001b[1;33m\u001b[0m\u001b[0m\n\u001b[1;32m--> 424\u001b[1;33m         \u001b[1;32mreturn\u001b[0m \u001b[0msuper\u001b[0m\u001b[1;33m(\u001b[0m\u001b[1;33m)\u001b[0m\u001b[1;33m.\u001b[0m\u001b[0mget_loc\u001b[0m\u001b[1;33m(\u001b[0m\u001b[0mkey\u001b[0m\u001b[1;33m,\u001b[0m \u001b[0mmethod\u001b[0m\u001b[1;33m=\u001b[0m\u001b[0mmethod\u001b[0m\u001b[1;33m,\u001b[0m \u001b[0mtolerance\u001b[0m\u001b[1;33m=\u001b[0m\u001b[0mtolerance\u001b[0m\u001b[1;33m)\u001b[0m\u001b[1;33m\u001b[0m\u001b[1;33m\u001b[0m\u001b[0m\n\u001b[0m\u001b[0;32m    425\u001b[0m \u001b[1;33m\u001b[0m\u001b[0m\n\u001b[0;32m    426\u001b[0m     \u001b[1;33m@\u001b[0m\u001b[0mcache_readonly\u001b[0m\u001b[1;33m\u001b[0m\u001b[1;33m\u001b[0m\u001b[0m\n",
      "\u001b[1;32mC:\\ProgramData\\Anaconda3\\envs\\btc2\\lib\\site-packages\\pandas\\core\\indexes\\base.py\u001b[0m in \u001b[0;36mget_loc\u001b[1;34m(self, key, method, tolerance)\u001b[0m\n\u001b[0;32m   2898\u001b[0m                 \u001b[1;32mreturn\u001b[0m \u001b[0mself\u001b[0m\u001b[1;33m.\u001b[0m\u001b[0m_engine\u001b[0m\u001b[1;33m.\u001b[0m\u001b[0mget_loc\u001b[0m\u001b[1;33m(\u001b[0m\u001b[0mcasted_key\u001b[0m\u001b[1;33m)\u001b[0m\u001b[1;33m\u001b[0m\u001b[1;33m\u001b[0m\u001b[0m\n\u001b[0;32m   2899\u001b[0m             \u001b[1;32mexcept\u001b[0m \u001b[0mKeyError\u001b[0m \u001b[1;32mas\u001b[0m \u001b[0merr\u001b[0m\u001b[1;33m:\u001b[0m\u001b[1;33m\u001b[0m\u001b[1;33m\u001b[0m\u001b[0m\n\u001b[1;32m-> 2900\u001b[1;33m                 \u001b[1;32mraise\u001b[0m \u001b[0mKeyError\u001b[0m\u001b[1;33m(\u001b[0m\u001b[0mkey\u001b[0m\u001b[1;33m)\u001b[0m \u001b[1;32mfrom\u001b[0m \u001b[0merr\u001b[0m\u001b[1;33m\u001b[0m\u001b[1;33m\u001b[0m\u001b[0m\n\u001b[0m\u001b[0;32m   2901\u001b[0m \u001b[1;33m\u001b[0m\u001b[0m\n\u001b[0;32m   2902\u001b[0m         \u001b[1;32mif\u001b[0m \u001b[0mtolerance\u001b[0m \u001b[1;32mis\u001b[0m \u001b[1;32mnot\u001b[0m \u001b[1;32mNone\u001b[0m\u001b[1;33m:\u001b[0m\u001b[1;33m\u001b[0m\u001b[1;33m\u001b[0m\u001b[0m\n",
      "\u001b[1;31mKeyError\u001b[0m: 1498870800"
     ]
    }
   ],
   "source": []
  },
  {
   "cell_type": "code",
   "execution_count": 69,
   "metadata": {},
   "outputs": [],
   "source": [
    "res = np.array(res)\n",
    "np.savetxt(\"../data/sample.txt\", res)"
   ]
  },
  {
   "cell_type": "markdown",
   "metadata": {},
   "source": [
    "## Disk File Parser Workflow\n",
    "\n",
    "To parse local blk file into list of samples and output to local "
   ]
  },
  {
   "cell_type": "code",
   "execution_count": null,
   "metadata": {},
   "outputs": [],
   "source": [
    "fp = FileParser()\n",
    "fpath = \"../data/Blocks_612866_610546/*.blk\"\n",
    "\n",
    "# [time, nBits, value, in_count, out_count]\n",
    "raw_data = sc.textFile(fpath)"
   ]
  },
  {
   "cell_type": "code",
   "execution_count": null,
   "metadata": {},
   "outputs": [],
   "source": [
    "raw_data.flatMap(lambda x: fp.parse(FileLoader(x))).map(lambda x: (x[0]//3600, (x[1], x[2], x[3], x[4], 1))).take(5)"
   ]
  },
  {
   "cell_type": "code",
   "execution_count": null,
   "metadata": {},
   "outputs": [],
   "source": [
    "test = raw_data.flatMap(lambda x: fp.parse(FileLoader(x))).map(lambda x: (x[0]//3600, (x[1], x[2], x[3], x[4], 1))).reduceByKey(lambda a,b: (a[0]+b[0], a[1]+b[1], a[2]+b[2], a[3]+b[3], a[4]+b[4])).take(2)"
   ]
  },
  {
   "cell_type": "code",
   "execution_count": null,
   "metadata": {},
   "outputs": [],
   "source": [
    "test"
   ]
  },
  {
   "cell_type": "code",
   "execution_count": null,
   "metadata": {},
   "outputs": [],
   "source": [
    "def avg(x):\n",
    "    print(x)\n",
    "    return [x[0]*3600, x[1][0]/x[1][4], x[1][1]/x[1][4], x[1][2]/x[1][4], x[1][3]/x[1][4]]"
   ]
  },
  {
   "cell_type": "code",
   "execution_count": null,
   "metadata": {},
   "outputs": [],
   "source": [
    "res = raw_data.flatMap(lambda x: fp.parse(FileLoader(x))).map(lambda x: (x[0]//3600, (x[1], x[2], x[3], x[4], 1))).reduceByKey(lambda a,b: (a[0]+b[0], a[1]+b[1], a[2]+b[2], a[3]+b[3], a[4]+b[4])).map(lambda x: avg(x)).collect()"
   ]
  },
  {
   "cell_type": "code",
   "execution_count": null,
   "metadata": {},
   "outputs": [],
   "source": [
    "res = np.array(res)\n",
    "print(res)\n",
    "# [time, nBits, value, in_count, out_count]\n",
    "np.savetxt(\"../data/sample.txt\", res)"
   ]
  },
  {
   "cell_type": "code",
   "execution_count": null,
   "metadata": {},
   "outputs": [],
   "source": [
    "with open('../data/block706515.blk','r') as in_file:\n",
    "    fd = FileLoader(in_file.readline())\n",
    "    output = fp.parse(fd)\n",
    "output"
   ]
  },
  {
   "cell_type": "code",
   "execution_count": null,
   "metadata": {},
   "outputs": [],
   "source": [
    "with open('../data/block706515.blk','r') as in_file:\n",
    "    fd = FileLoader(in_file.readline())\n",
    "    output = fp.parse(fd)\n",
    "output"
   ]
  },
  {
   "cell_type": "code",
   "execution_count": null,
   "metadata": {},
   "outputs": [],
   "source": []
  }
 ],
 "metadata": {
  "interpreter": {
   "hash": "d94139b0a09a74fae7c399e4d26f3dcbdbc270196fdb8e917084ed2e7f940a33"
  },
  "kernelspec": {
   "display_name": "Python 3",
   "language": "python",
   "name": "python3"
  },
  "language_info": {
   "codemirror_mode": {
    "name": "ipython",
    "version": 3
   },
   "file_extension": ".py",
   "mimetype": "text/x-python",
   "name": "python",
   "nbconvert_exporter": "python",
   "pygments_lexer": "ipython3",
   "version": "3.6.13"
  }
 },
 "nbformat": 4,
 "nbformat_minor": 4
}
